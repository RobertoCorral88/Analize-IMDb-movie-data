{
 "cells": [
  {
   "cell_type": "markdown",
   "metadata": {},
   "source": [
    "\n",
    "\n",
    "# Project: IMDb movie data\n",
    "\n",
    "## Table of Contents\n",
    "<ul>\n",
    "<li><a href=\"#intro\">Introduction</a></li>\n",
    "<li><a href=\"#wrangling\">Data Wrangling</a></li>\n",
    "<li><a href=\"#eda\">Exploratory Data Analysis</a></li>\n",
    "<li><a href=\"#conclusions\">Conclusions</a></li>\n",
    "</ul>"
   ]
  },
  {
   "cell_type": "markdown",
   "metadata": {},
   "source": [
    "<a id='intro'></a>\n",
    "## Introduction\n",
    "\n",
    "> The dataset chosen for the research project is **TMDb movie data**. This dataset contains data about films with several variables such as cast, revenue, genres, budget, popularity, ... .\n",
    "\n",
    "> We are going to to ask the following questions about the data. What kind of properties have the most popular movies? and what actors and directors are the most popular?"
   ]
  },
  {
   "cell_type": "code",
   "execution_count": 159,
   "metadata": {},
   "outputs": [],
   "source": [
    "# In this cell, we are going to set up import statements for all of the packages we are going to use\n",
    "import pandas as pd\n",
    "import numpy as np\n",
    "import matplotlib.pyplot as plt\n",
    "import seaborn as sns\n",
    "\n",
    "%matplotlib inline"
   ]
  },
  {
   "cell_type": "markdown",
   "metadata": {},
   "source": [
    "<a id='wrangling'></a>\n",
    "## Data Wrangling\n",
    "\n",
    "> In this section, we are going to prepare our dataset to anwser the questions that we are formulated above.\n",
    "\n",
    "### General Properties\n",
    "\n",
    "> First of all, we will load our dataset and print out some lines to see the data. We will also see the size of our dataset."
   ]
  },
  {
   "cell_type": "code",
   "execution_count": 160,
   "metadata": {},
   "outputs": [
    {
     "name": "stdout",
     "output_type": "stream",
     "text": [
      "Rows: 10866 \n",
      "Columns: 21\n"
     ]
    },
    {
     "data": {
      "text/html": [
       "<div>\n",
       "<style scoped>\n",
       "    .dataframe tbody tr th:only-of-type {\n",
       "        vertical-align: middle;\n",
       "    }\n",
       "\n",
       "    .dataframe tbody tr th {\n",
       "        vertical-align: top;\n",
       "    }\n",
       "\n",
       "    .dataframe thead th {\n",
       "        text-align: right;\n",
       "    }\n",
       "</style>\n",
       "<table border=\"1\" class=\"dataframe\">\n",
       "  <thead>\n",
       "    <tr style=\"text-align: right;\">\n",
       "      <th></th>\n",
       "      <th>id</th>\n",
       "      <th>imdb_id</th>\n",
       "      <th>popularity</th>\n",
       "      <th>budget</th>\n",
       "      <th>revenue</th>\n",
       "      <th>original_title</th>\n",
       "      <th>cast</th>\n",
       "      <th>homepage</th>\n",
       "      <th>director</th>\n",
       "      <th>tagline</th>\n",
       "      <th>...</th>\n",
       "      <th>overview</th>\n",
       "      <th>runtime</th>\n",
       "      <th>genres</th>\n",
       "      <th>production_companies</th>\n",
       "      <th>release_date</th>\n",
       "      <th>vote_count</th>\n",
       "      <th>vote_average</th>\n",
       "      <th>release_year</th>\n",
       "      <th>budget_adj</th>\n",
       "      <th>revenue_adj</th>\n",
       "    </tr>\n",
       "  </thead>\n",
       "  <tbody>\n",
       "    <tr>\n",
       "      <th>0</th>\n",
       "      <td>135397</td>\n",
       "      <td>tt0369610</td>\n",
       "      <td>32.985763</td>\n",
       "      <td>150000000</td>\n",
       "      <td>1513528810</td>\n",
       "      <td>Jurassic World</td>\n",
       "      <td>Chris Pratt|Bryce Dallas Howard|Irrfan Khan|Vi...</td>\n",
       "      <td>http://www.jurassicworld.com/</td>\n",
       "      <td>Colin Trevorrow</td>\n",
       "      <td>The park is open.</td>\n",
       "      <td>...</td>\n",
       "      <td>Twenty-two years after the events of Jurassic ...</td>\n",
       "      <td>124</td>\n",
       "      <td>Action|Adventure|Science Fiction|Thriller</td>\n",
       "      <td>Universal Studios|Amblin Entertainment|Legenda...</td>\n",
       "      <td>6/9/15</td>\n",
       "      <td>5562</td>\n",
       "      <td>6.5</td>\n",
       "      <td>2015</td>\n",
       "      <td>1.379999e+08</td>\n",
       "      <td>1.392446e+09</td>\n",
       "    </tr>\n",
       "    <tr>\n",
       "      <th>1</th>\n",
       "      <td>76341</td>\n",
       "      <td>tt1392190</td>\n",
       "      <td>28.419936</td>\n",
       "      <td>150000000</td>\n",
       "      <td>378436354</td>\n",
       "      <td>Mad Max: Fury Road</td>\n",
       "      <td>Tom Hardy|Charlize Theron|Hugh Keays-Byrne|Nic...</td>\n",
       "      <td>http://www.madmaxmovie.com/</td>\n",
       "      <td>George Miller</td>\n",
       "      <td>What a Lovely Day.</td>\n",
       "      <td>...</td>\n",
       "      <td>An apocalyptic story set in the furthest reach...</td>\n",
       "      <td>120</td>\n",
       "      <td>Action|Adventure|Science Fiction|Thriller</td>\n",
       "      <td>Village Roadshow Pictures|Kennedy Miller Produ...</td>\n",
       "      <td>5/13/15</td>\n",
       "      <td>6185</td>\n",
       "      <td>7.1</td>\n",
       "      <td>2015</td>\n",
       "      <td>1.379999e+08</td>\n",
       "      <td>3.481613e+08</td>\n",
       "    </tr>\n",
       "    <tr>\n",
       "      <th>2</th>\n",
       "      <td>262500</td>\n",
       "      <td>tt2908446</td>\n",
       "      <td>13.112507</td>\n",
       "      <td>110000000</td>\n",
       "      <td>295238201</td>\n",
       "      <td>Insurgent</td>\n",
       "      <td>Shailene Woodley|Theo James|Kate Winslet|Ansel...</td>\n",
       "      <td>http://www.thedivergentseries.movie/#insurgent</td>\n",
       "      <td>Robert Schwentke</td>\n",
       "      <td>One Choice Can Destroy You</td>\n",
       "      <td>...</td>\n",
       "      <td>Beatrice Prior must confront her inner demons ...</td>\n",
       "      <td>119</td>\n",
       "      <td>Adventure|Science Fiction|Thriller</td>\n",
       "      <td>Summit Entertainment|Mandeville Films|Red Wago...</td>\n",
       "      <td>3/18/15</td>\n",
       "      <td>2480</td>\n",
       "      <td>6.3</td>\n",
       "      <td>2015</td>\n",
       "      <td>1.012000e+08</td>\n",
       "      <td>2.716190e+08</td>\n",
       "    </tr>\n",
       "  </tbody>\n",
       "</table>\n",
       "<p>3 rows × 21 columns</p>\n",
       "</div>"
      ],
      "text/plain": [
       "       id    imdb_id  popularity     budget     revenue      original_title  \\\n",
       "0  135397  tt0369610   32.985763  150000000  1513528810      Jurassic World   \n",
       "1   76341  tt1392190   28.419936  150000000   378436354  Mad Max: Fury Road   \n",
       "2  262500  tt2908446   13.112507  110000000   295238201           Insurgent   \n",
       "\n",
       "                                                cast  \\\n",
       "0  Chris Pratt|Bryce Dallas Howard|Irrfan Khan|Vi...   \n",
       "1  Tom Hardy|Charlize Theron|Hugh Keays-Byrne|Nic...   \n",
       "2  Shailene Woodley|Theo James|Kate Winslet|Ansel...   \n",
       "\n",
       "                                         homepage          director  \\\n",
       "0                   http://www.jurassicworld.com/   Colin Trevorrow   \n",
       "1                     http://www.madmaxmovie.com/     George Miller   \n",
       "2  http://www.thedivergentseries.movie/#insurgent  Robert Schwentke   \n",
       "\n",
       "                      tagline      ...       \\\n",
       "0           The park is open.      ...        \n",
       "1          What a Lovely Day.      ...        \n",
       "2  One Choice Can Destroy You      ...        \n",
       "\n",
       "                                            overview runtime  \\\n",
       "0  Twenty-two years after the events of Jurassic ...     124   \n",
       "1  An apocalyptic story set in the furthest reach...     120   \n",
       "2  Beatrice Prior must confront her inner demons ...     119   \n",
       "\n",
       "                                      genres  \\\n",
       "0  Action|Adventure|Science Fiction|Thriller   \n",
       "1  Action|Adventure|Science Fiction|Thriller   \n",
       "2         Adventure|Science Fiction|Thriller   \n",
       "\n",
       "                                production_companies release_date vote_count  \\\n",
       "0  Universal Studios|Amblin Entertainment|Legenda...       6/9/15       5562   \n",
       "1  Village Roadshow Pictures|Kennedy Miller Produ...      5/13/15       6185   \n",
       "2  Summit Entertainment|Mandeville Films|Red Wago...      3/18/15       2480   \n",
       "\n",
       "   vote_average  release_year    budget_adj   revenue_adj  \n",
       "0           6.5          2015  1.379999e+08  1.392446e+09  \n",
       "1           7.1          2015  1.379999e+08  3.481613e+08  \n",
       "2           6.3          2015  1.012000e+08  2.716190e+08  \n",
       "\n",
       "[3 rows x 21 columns]"
      ]
     },
     "execution_count": 160,
     "metadata": {},
     "output_type": "execute_result"
    }
   ],
   "source": [
    "# Load your data and print out a few lines. Perform operations to inspect data\n",
    "#   types and look for instances of missing or possibly errant data.\n",
    "df_movie = pd.read_csv('tmdb-movies.csv')\n",
    "print('Rows:', df_movie.shape[0],'\\nColumns:', df_movie.shape[1])\n",
    "df_movie.head(3)\n"
   ]
  },
  {
   "cell_type": "code",
   "execution_count": 161,
   "metadata": {},
   "outputs": [
    {
     "data": {
      "text/html": [
       "<div>\n",
       "<style scoped>\n",
       "    .dataframe tbody tr th:only-of-type {\n",
       "        vertical-align: middle;\n",
       "    }\n",
       "\n",
       "    .dataframe tbody tr th {\n",
       "        vertical-align: top;\n",
       "    }\n",
       "\n",
       "    .dataframe thead th {\n",
       "        text-align: right;\n",
       "    }\n",
       "</style>\n",
       "<table border=\"1\" class=\"dataframe\">\n",
       "  <thead>\n",
       "    <tr style=\"text-align: right;\">\n",
       "      <th></th>\n",
       "      <th>id</th>\n",
       "      <th>popularity</th>\n",
       "      <th>budget</th>\n",
       "      <th>revenue</th>\n",
       "      <th>runtime</th>\n",
       "      <th>vote_count</th>\n",
       "      <th>vote_average</th>\n",
       "      <th>release_year</th>\n",
       "      <th>budget_adj</th>\n",
       "      <th>revenue_adj</th>\n",
       "    </tr>\n",
       "  </thead>\n",
       "  <tbody>\n",
       "    <tr>\n",
       "      <th>count</th>\n",
       "      <td>10866.000000</td>\n",
       "      <td>10866.000000</td>\n",
       "      <td>1.086600e+04</td>\n",
       "      <td>1.086600e+04</td>\n",
       "      <td>10866.000000</td>\n",
       "      <td>10866.000000</td>\n",
       "      <td>10866.000000</td>\n",
       "      <td>10866.000000</td>\n",
       "      <td>1.086600e+04</td>\n",
       "      <td>1.086600e+04</td>\n",
       "    </tr>\n",
       "    <tr>\n",
       "      <th>mean</th>\n",
       "      <td>66064.177434</td>\n",
       "      <td>0.646441</td>\n",
       "      <td>1.462570e+07</td>\n",
       "      <td>3.982332e+07</td>\n",
       "      <td>102.070863</td>\n",
       "      <td>217.389748</td>\n",
       "      <td>5.974922</td>\n",
       "      <td>2001.322658</td>\n",
       "      <td>1.755104e+07</td>\n",
       "      <td>5.136436e+07</td>\n",
       "    </tr>\n",
       "    <tr>\n",
       "      <th>std</th>\n",
       "      <td>92130.136561</td>\n",
       "      <td>1.000185</td>\n",
       "      <td>3.091321e+07</td>\n",
       "      <td>1.170035e+08</td>\n",
       "      <td>31.381405</td>\n",
       "      <td>575.619058</td>\n",
       "      <td>0.935142</td>\n",
       "      <td>12.812941</td>\n",
       "      <td>3.430616e+07</td>\n",
       "      <td>1.446325e+08</td>\n",
       "    </tr>\n",
       "    <tr>\n",
       "      <th>min</th>\n",
       "      <td>5.000000</td>\n",
       "      <td>0.000065</td>\n",
       "      <td>0.000000e+00</td>\n",
       "      <td>0.000000e+00</td>\n",
       "      <td>0.000000</td>\n",
       "      <td>10.000000</td>\n",
       "      <td>1.500000</td>\n",
       "      <td>1960.000000</td>\n",
       "      <td>0.000000e+00</td>\n",
       "      <td>0.000000e+00</td>\n",
       "    </tr>\n",
       "    <tr>\n",
       "      <th>25%</th>\n",
       "      <td>10596.250000</td>\n",
       "      <td>0.207583</td>\n",
       "      <td>0.000000e+00</td>\n",
       "      <td>0.000000e+00</td>\n",
       "      <td>90.000000</td>\n",
       "      <td>17.000000</td>\n",
       "      <td>5.400000</td>\n",
       "      <td>1995.000000</td>\n",
       "      <td>0.000000e+00</td>\n",
       "      <td>0.000000e+00</td>\n",
       "    </tr>\n",
       "    <tr>\n",
       "      <th>50%</th>\n",
       "      <td>20669.000000</td>\n",
       "      <td>0.383856</td>\n",
       "      <td>0.000000e+00</td>\n",
       "      <td>0.000000e+00</td>\n",
       "      <td>99.000000</td>\n",
       "      <td>38.000000</td>\n",
       "      <td>6.000000</td>\n",
       "      <td>2006.000000</td>\n",
       "      <td>0.000000e+00</td>\n",
       "      <td>0.000000e+00</td>\n",
       "    </tr>\n",
       "    <tr>\n",
       "      <th>75%</th>\n",
       "      <td>75610.000000</td>\n",
       "      <td>0.713817</td>\n",
       "      <td>1.500000e+07</td>\n",
       "      <td>2.400000e+07</td>\n",
       "      <td>111.000000</td>\n",
       "      <td>145.750000</td>\n",
       "      <td>6.600000</td>\n",
       "      <td>2011.000000</td>\n",
       "      <td>2.085325e+07</td>\n",
       "      <td>3.369710e+07</td>\n",
       "    </tr>\n",
       "    <tr>\n",
       "      <th>max</th>\n",
       "      <td>417859.000000</td>\n",
       "      <td>32.985763</td>\n",
       "      <td>4.250000e+08</td>\n",
       "      <td>2.781506e+09</td>\n",
       "      <td>900.000000</td>\n",
       "      <td>9767.000000</td>\n",
       "      <td>9.200000</td>\n",
       "      <td>2015.000000</td>\n",
       "      <td>4.250000e+08</td>\n",
       "      <td>2.827124e+09</td>\n",
       "    </tr>\n",
       "  </tbody>\n",
       "</table>\n",
       "</div>"
      ],
      "text/plain": [
       "                  id    popularity        budget       revenue       runtime  \\\n",
       "count   10866.000000  10866.000000  1.086600e+04  1.086600e+04  10866.000000   \n",
       "mean    66064.177434      0.646441  1.462570e+07  3.982332e+07    102.070863   \n",
       "std     92130.136561      1.000185  3.091321e+07  1.170035e+08     31.381405   \n",
       "min         5.000000      0.000065  0.000000e+00  0.000000e+00      0.000000   \n",
       "25%     10596.250000      0.207583  0.000000e+00  0.000000e+00     90.000000   \n",
       "50%     20669.000000      0.383856  0.000000e+00  0.000000e+00     99.000000   \n",
       "75%     75610.000000      0.713817  1.500000e+07  2.400000e+07    111.000000   \n",
       "max    417859.000000     32.985763  4.250000e+08  2.781506e+09    900.000000   \n",
       "\n",
       "         vote_count  vote_average  release_year    budget_adj   revenue_adj  \n",
       "count  10866.000000  10866.000000  10866.000000  1.086600e+04  1.086600e+04  \n",
       "mean     217.389748      5.974922   2001.322658  1.755104e+07  5.136436e+07  \n",
       "std      575.619058      0.935142     12.812941  3.430616e+07  1.446325e+08  \n",
       "min       10.000000      1.500000   1960.000000  0.000000e+00  0.000000e+00  \n",
       "25%       17.000000      5.400000   1995.000000  0.000000e+00  0.000000e+00  \n",
       "50%       38.000000      6.000000   2006.000000  0.000000e+00  0.000000e+00  \n",
       "75%      145.750000      6.600000   2011.000000  2.085325e+07  3.369710e+07  \n",
       "max     9767.000000      9.200000   2015.000000  4.250000e+08  2.827124e+09  "
      ]
     },
     "execution_count": 161,
     "metadata": {},
     "output_type": "execute_result"
    }
   ],
   "source": [
    "# More important statistics related to the variables\n",
    "df_movie.describe()"
   ]
  },
  {
   "cell_type": "markdown",
   "metadata": {},
   "source": [
    "> With these statistics, we can noticed several things:\n",
    "- More than 50% of the movies don´t have set budget and revenue. For these reason we don´t use these columns.\n",
    "- There are movies with runtime set to 0 and others with 900 minutes."
   ]
  },
  {
   "cell_type": "code",
   "execution_count": 162,
   "metadata": {},
   "outputs": [
    {
     "data": {
      "text/plain": [
       "id                        int64\n",
       "imdb_id                  object\n",
       "popularity              float64\n",
       "budget                    int64\n",
       "revenue                   int64\n",
       "original_title           object\n",
       "cast                     object\n",
       "homepage                 object\n",
       "director                 object\n",
       "tagline                  object\n",
       "keywords                 object\n",
       "overview                 object\n",
       "runtime                   int64\n",
       "genres                   object\n",
       "production_companies     object\n",
       "release_date             object\n",
       "vote_count                int64\n",
       "vote_average            float64\n",
       "release_year              int64\n",
       "budget_adj              float64\n",
       "revenue_adj             float64\n",
       "dtype: object"
      ]
     },
     "execution_count": 162,
     "metadata": {},
     "output_type": "execute_result"
    }
   ],
   "source": [
    "#Datatypes of the variables\n",
    "df_movie.dtypes"
   ]
  },
  {
   "cell_type": "code",
   "execution_count": 163,
   "metadata": {},
   "outputs": [
    {
     "name": "stdout",
     "output_type": "stream",
     "text": [
      "<class 'pandas.core.frame.DataFrame'>\n",
      "RangeIndex: 10866 entries, 0 to 10865\n",
      "Data columns (total 21 columns):\n",
      "id                      10866 non-null int64\n",
      "imdb_id                 10856 non-null object\n",
      "popularity              10866 non-null float64\n",
      "budget                  10866 non-null int64\n",
      "revenue                 10866 non-null int64\n",
      "original_title          10866 non-null object\n",
      "cast                    10790 non-null object\n",
      "homepage                2936 non-null object\n",
      "director                10822 non-null object\n",
      "tagline                 8042 non-null object\n",
      "keywords                9373 non-null object\n",
      "overview                10862 non-null object\n",
      "runtime                 10866 non-null int64\n",
      "genres                  10843 non-null object\n",
      "production_companies    9836 non-null object\n",
      "release_date            10866 non-null object\n",
      "vote_count              10866 non-null int64\n",
      "vote_average            10866 non-null float64\n",
      "release_year            10866 non-null int64\n",
      "budget_adj              10866 non-null float64\n",
      "revenue_adj             10866 non-null float64\n",
      "dtypes: float64(4), int64(6), object(11)\n",
      "memory usage: 1.7+ MB\n"
     ]
    }
   ],
   "source": [
    "#Missing values in the dataset\n",
    "df_movie.info()"
   ]
  },
  {
   "cell_type": "markdown",
   "metadata": {},
   "source": [
    "> On a sight of our dataset, we can remove several column that we will not use in our analisys. We will also remove missing data."
   ]
  },
  {
   "cell_type": "code",
   "execution_count": 164,
   "metadata": {},
   "outputs": [
    {
     "name": "stdout",
     "output_type": "stream",
     "text": [
      "<class 'pandas.core.frame.DataFrame'>\n",
      "Int64Index: 10732 entries, 0 to 10865\n",
      "Data columns (total 9 columns):\n",
      "popularity        10732 non-null float64\n",
      "original_title    10732 non-null object\n",
      "cast              10732 non-null object\n",
      "director          10732 non-null object\n",
      "runtime           10732 non-null int64\n",
      "genres            10732 non-null object\n",
      "vote_count        10732 non-null int64\n",
      "vote_average      10732 non-null float64\n",
      "release_year      10732 non-null int64\n",
      "dtypes: float64(2), int64(3), object(4)\n",
      "memory usage: 838.4+ KB\n",
      "None\n"
     ]
    }
   ],
   "source": [
    "df_movie.drop(['id', 'imdb_id', 'budget','revenue', 'homepage', 'tagline', 'keywords','production_companies','release_date','overview', 'budget_adj', 'revenue_adj'], axis=1, inplace=True)\n",
    "df_movie.dropna(inplace=True)\n",
    "print(df_movie.info())\n",
    "df_movie.head(3);"
   ]
  },
  {
   "cell_type": "markdown",
   "metadata": {},
   "source": [
    "### Data Cleaning \n",
    "\n",
    ">Right now, we have a first impression about our dataset and we are going to do data cleaning in several points. For instance, we have three columns (cast, genres, director) with multiples values, but we are to get only the first in all cases. In case of cast we only get the main actor or actress of the film, in the second one we get the main genre and the third the main director.\n",
    "\n",
    "> Also in this part of the project. We will see the consistency of our date removing duplicate rows, inconsistent data, ... ."
   ]
  },
  {
   "cell_type": "code",
   "execution_count": 165,
   "metadata": {},
   "outputs": [
    {
     "data": {
      "text/html": [
       "<div>\n",
       "<style scoped>\n",
       "    .dataframe tbody tr th:only-of-type {\n",
       "        vertical-align: middle;\n",
       "    }\n",
       "\n",
       "    .dataframe tbody tr th {\n",
       "        vertical-align: top;\n",
       "    }\n",
       "\n",
       "    .dataframe thead th {\n",
       "        text-align: right;\n",
       "    }\n",
       "</style>\n",
       "<table border=\"1\" class=\"dataframe\">\n",
       "  <thead>\n",
       "    <tr style=\"text-align: right;\">\n",
       "      <th></th>\n",
       "      <th>popularity</th>\n",
       "      <th>original_title</th>\n",
       "      <th>main_actor</th>\n",
       "      <th>main_director</th>\n",
       "      <th>runtime</th>\n",
       "      <th>main_genre</th>\n",
       "      <th>vote_count</th>\n",
       "      <th>vote_average</th>\n",
       "      <th>release_year</th>\n",
       "    </tr>\n",
       "  </thead>\n",
       "  <tbody>\n",
       "    <tr>\n",
       "      <th>0</th>\n",
       "      <td>32.985763</td>\n",
       "      <td>Jurassic World</td>\n",
       "      <td>Chris Pratt</td>\n",
       "      <td>Colin Trevorrow</td>\n",
       "      <td>124</td>\n",
       "      <td>Action</td>\n",
       "      <td>5562</td>\n",
       "      <td>6.5</td>\n",
       "      <td>2015</td>\n",
       "    </tr>\n",
       "    <tr>\n",
       "      <th>1</th>\n",
       "      <td>28.419936</td>\n",
       "      <td>Mad Max: Fury Road</td>\n",
       "      <td>Tom Hardy</td>\n",
       "      <td>George Miller</td>\n",
       "      <td>120</td>\n",
       "      <td>Action</td>\n",
       "      <td>6185</td>\n",
       "      <td>7.1</td>\n",
       "      <td>2015</td>\n",
       "    </tr>\n",
       "    <tr>\n",
       "      <th>2</th>\n",
       "      <td>13.112507</td>\n",
       "      <td>Insurgent</td>\n",
       "      <td>Shailene Woodley</td>\n",
       "      <td>Robert Schwentke</td>\n",
       "      <td>119</td>\n",
       "      <td>Adventure</td>\n",
       "      <td>2480</td>\n",
       "      <td>6.3</td>\n",
       "      <td>2015</td>\n",
       "    </tr>\n",
       "    <tr>\n",
       "      <th>3</th>\n",
       "      <td>11.173104</td>\n",
       "      <td>Star Wars: The Force Awakens</td>\n",
       "      <td>Harrison Ford</td>\n",
       "      <td>J.J. Abrams</td>\n",
       "      <td>136</td>\n",
       "      <td>Action</td>\n",
       "      <td>5292</td>\n",
       "      <td>7.5</td>\n",
       "      <td>2015</td>\n",
       "    </tr>\n",
       "    <tr>\n",
       "      <th>4</th>\n",
       "      <td>9.335014</td>\n",
       "      <td>Furious 7</td>\n",
       "      <td>Vin Diesel</td>\n",
       "      <td>James Wan</td>\n",
       "      <td>137</td>\n",
       "      <td>Action</td>\n",
       "      <td>2947</td>\n",
       "      <td>7.3</td>\n",
       "      <td>2015</td>\n",
       "    </tr>\n",
       "  </tbody>\n",
       "</table>\n",
       "</div>"
      ],
      "text/plain": [
       "   popularity                original_title        main_actor  \\\n",
       "0   32.985763                Jurassic World       Chris Pratt   \n",
       "1   28.419936            Mad Max: Fury Road         Tom Hardy   \n",
       "2   13.112507                     Insurgent  Shailene Woodley   \n",
       "3   11.173104  Star Wars: The Force Awakens     Harrison Ford   \n",
       "4    9.335014                     Furious 7        Vin Diesel   \n",
       "\n",
       "      main_director  runtime main_genre  vote_count  vote_average  \\\n",
       "0   Colin Trevorrow      124     Action        5562           6.5   \n",
       "1     George Miller      120     Action        6185           7.1   \n",
       "2  Robert Schwentke      119  Adventure        2480           6.3   \n",
       "3       J.J. Abrams      136     Action        5292           7.5   \n",
       "4         James Wan      137     Action        2947           7.3   \n",
       "\n",
       "   release_year  \n",
       "0          2015  \n",
       "1          2015  \n",
       "2          2015  \n",
       "3          2015  \n",
       "4          2015  "
      ]
     },
     "execution_count": 165,
     "metadata": {},
     "output_type": "execute_result"
    }
   ],
   "source": [
    "# we keep the main actor or actress, the main gerne of the film and the main  director, we are also going to rename this columns\n",
    "first_data = [\"cast\",\"genres\",'director']\n",
    "for c in first_data:\n",
    "    df_movie[c] = df_movie[c].apply(lambda x: x.split(\"|\")[0])\n",
    "\n",
    "df_movie.rename(columns={'cast':'main_actor','genres':'main_genre','director':'main_director'}, inplace= True)\n",
    " \n",
    "df_movie.head(5)"
   ]
  },
  {
   "cell_type": "code",
   "execution_count": 166,
   "metadata": {},
   "outputs": [
    {
     "name": "stdout",
     "output_type": "stream",
     "text": [
      "Duplicated rows:  1\n"
     ]
    }
   ],
   "source": [
    "# remove duplicated rows\n",
    "print('Duplicated rows: ', sum(df_movie.duplicated()))\n",
    "df_movie.drop_duplicates(inplace=True)\n"
   ]
  },
  {
   "cell_type": "markdown",
   "metadata": {},
   "source": [
    ">Now we can see an histogram of all de numeric values in which we can see the next insights.\n",
    "  - Then number of films have been increasing exponentially with the past of the years.\n",
    "  - Most of the films have a popularity about 0.\n",
    "  - The vote averege is close to a normal distribution. "
   ]
  },
  {
   "cell_type": "code",
   "execution_count": 167,
   "metadata": {},
   "outputs": [
    {
     "data": {
      "image/png": "[encoded data removed]",
      "text/plain": [
       "<Figure size 720x576 with 6 Axes>"
      ]
     },
     "metadata": {
      "needs_background": "light"
     },
     "output_type": "display_data"
    }
   ],
   "source": [
    "df_movie.hist(figsize=(10,8));"
   ]
  },
  {
   "cell_type": "code",
   "execution_count": 168,
   "metadata": {},
   "outputs": [
    {
     "name": "stdout",
     "output_type": "stream",
     "text": [
      "These columns represent 338 rows which are not representative for the whole dataset.\n"
     ]
    }
   ],
   "source": [
    "#only keep films that have a runtime between 60 and 200 minutes, once we see that films we delete are not representative.\n",
    "runtime_bound=df_movie.query('runtime < 60 or runtime > 200')['runtime'].count()\n",
    "print('These columns represent {} rows which are not representative for the whole dataset.'.format(runtime_bound))\n",
    "df_movie = df_movie.query('runtime > 60 and runtime < 200')\n"
   ]
  },
  {
   "cell_type": "markdown",
   "metadata": {},
   "source": [
    "<a id='eda'></a>\n",
    "## Exploratory Data Analysis\n",
    "\n",
    "### Question 1: What kind of properties have the most popular movies?"
   ]
  },
  {
   "cell_type": "markdown",
   "metadata": {},
   "source": [
    ">First of all, we are going to compare the different variables with the popularity and vote average.\n"
   ]
  },
  {
   "cell_type": "code",
   "execution_count": 169,
   "metadata": {},
   "outputs": [],
   "source": [
    "#Function to remove \"_\" and title strings\n",
    "def string_change(variable:str):\n",
    "    result = variable.title().replace('_',\" \")\n",
    "    return result\n",
    "    \n",
    "\n",
    "#Function ti print a scatter plot\n",
    "def scatter(x_variable,y_variable):\n",
    "    graph = df_movie.plot(x=x_variable, y=y_variable, kind= 'scatter', title='{} Vs {}'.format(string_change(x_variable),string_change(y_variable)));\n",
    "    return graph;\n"
   ]
  },
  {
   "cell_type": "code",
   "execution_count": 170,
   "metadata": {},
   "outputs": [
    {
     "data": {
      "image/png": "[encoded data removed]",
      "text/plain": [
       "<Figure size 432x288 with 1 Axes>"
      ]
     },
     "metadata": {
      "needs_background": "light"
     },
     "output_type": "display_data"
    }
   ],
   "source": [
    "scatter('vote_average','popularity');"
   ]
  },
  {
   "cell_type": "code",
   "execution_count": 171,
   "metadata": {},
   "outputs": [
    {
     "data": {
      "image/png": "[encoded data removed]",
      "text/plain": [
       "<Figure size 432x288 with 1 Axes>"
      ]
     },
     "metadata": {
      "needs_background": "light"
     },
     "output_type": "display_data"
    }
   ],
   "source": [
    "scatter('vote_average','runtime');"
   ]
  },
  {
   "cell_type": "code",
   "execution_count": 172,
   "metadata": {},
   "outputs": [
    {
     "name": "stdout",
     "output_type": "stream",
     "text": [
      "Runtime of films with highest vote average: 111.71\n"
     ]
    }
   ],
   "source": [
    "print('Runtime of films with highest vote average:',round(df_movie.query('vote_average > 7')['runtime'].mean(),2))"
   ]
  },
  {
   "cell_type": "code",
   "execution_count": 173,
   "metadata": {},
   "outputs": [],
   "source": [
    "#Function to plot a variable to genre\n",
    "def genre_plot(variable:str):\n",
    "    genre = df_movie.groupby('main_genre')[variable].mean().sort_values(ascending=False)\n",
    "    print(genre)\n",
    "    plot = genre.plot(kind='bar', figsize=(10,5), title = '{} by Genre'.format(string_change(variable)));\n",
    "    return plot"
   ]
  },
  {
   "cell_type": "code",
   "execution_count": 174,
   "metadata": {},
   "outputs": [
    {
     "name": "stdout",
     "output_type": "stream",
     "text": [
      "main_genre\n",
      "Documentary        6.896328\n",
      "Music              6.525000\n",
      "History            6.345238\n",
      "Animation          6.266783\n",
      "Crime              6.212202\n",
      "Drama              6.190641\n",
      "War                6.155357\n",
      "Romance            6.114773\n",
      "Western            6.080952\n",
      "Adventure          6.018761\n",
      "Mystery            5.895968\n",
      "Family             5.881102\n",
      "Comedy             5.865517\n",
      "Science Fiction    5.843455\n",
      "Fantasy            5.779693\n",
      "Action             5.730561\n",
      "Foreign            5.687500\n",
      "TV Movie           5.662687\n",
      "Thriller           5.641478\n",
      "Horror             5.312514\n",
      "Name: vote_average, dtype: float64\n"
     ]
    },
    {
     "data": {
      "image/png": "[encoded data removed]",
      "text/plain": [
       "<Figure size 720x360 with 1 Axes>"
      ]
     },
     "metadata": {
      "needs_background": "light"
     },
     "output_type": "display_data"
    }
   ],
   "source": [
    "genre_plot('vote_average');"
   ]
  },
  {
   "cell_type": "markdown",
   "metadata": {},
   "source": [
    "> The films which have better rate, last about 2 hours and the main genres of this films are Documentary, Music, History and Animation."
   ]
  },
  {
   "cell_type": "code",
   "execution_count": 175,
   "metadata": {},
   "outputs": [
    {
     "name": "stdout",
     "output_type": "stream",
     "text": [
      "main_genre\n",
      "Adventure          1.234009\n",
      "Science Fiction    1.178170\n",
      "Animation          0.971267\n",
      "Fantasy            0.884037\n",
      "Action             0.844931\n",
      "History            0.791854\n",
      "War                0.783809\n",
      "Family             0.775684\n",
      "Romance            0.732495\n",
      "Crime              0.697459\n",
      "Western            0.690646\n",
      "Thriller           0.677834\n",
      "Mystery            0.601536\n",
      "Drama              0.557403\n",
      "Comedy             0.546042\n",
      "Music              0.475263\n",
      "Horror             0.472770\n",
      "TV Movie           0.239546\n",
      "Documentary        0.185319\n",
      "Foreign            0.178917\n",
      "Name: popularity, dtype: float64\n"
     ]
    },
    {
     "data": {
      "image/png": "[encoded data removed]",
      "text/plain": [
       "<Figure size 720x360 with 1 Axes>"
      ]
     },
     "metadata": {
      "needs_background": "light"
     },
     "output_type": "display_data"
    }
   ],
   "source": [
    "genre_plot('popularity');"
   ]
  },
  {
   "cell_type": "markdown",
   "metadata": {},
   "source": [
    "> But if we do the same with the variable of popularity we can see how genres that are well vote aren´t popular like Documentary or Music, instead of these the more popular genres are Adventure and Science Fiction.\n",
    "We can sumarize this as, one thing is what people see and other what people vote."
   ]
  },
  {
   "cell_type": "markdown",
   "metadata": {},
   "source": [
    "### Question 2  what actors and directors are the most popular?"
   ]
  },
  {
   "cell_type": "markdown",
   "metadata": {
    "collapsed": true
   },
   "source": [
    "> First, we can see the actors who have participate in films more time as the main actor them, also we are going to do the same with directors."
   ]
  },
  {
   "cell_type": "code",
   "execution_count": 176,
   "metadata": {},
   "outputs": [],
   "source": [
    "def more_movies(variable:str, rows=0 , title=0 ):\n",
    "    \"\"\"This function return an aggregations of all movies by a varible\n",
    "    Input: variable - variable of the aggregation\n",
    "           rows - rows to print (0 default value, return all rows)\n",
    "           title - return title if it is 1 (0 default it do not return title)\"\"\"\n",
    "    main_data=df_movie.groupby(variable).agg({variable:'size', 'popularity':'mean'}).rename(columns={variable:'Films'}).sort_values(by='Films',ascending=False)\n",
    "    if title==1:\n",
    "        print('{} with more movies'.format(string_change(variable)))\n",
    "    \n",
    "    if rows==0:\n",
    "        result=main_data\n",
    "    else:\n",
    "        result=main_data.head(rows)\n",
    "    return result"
   ]
  },
  {
   "cell_type": "code",
   "execution_count": 177,
   "metadata": {},
   "outputs": [
    {
     "name": "stdout",
     "output_type": "stream",
     "text": [
      "Main Actor with more movies\n"
     ]
    },
    {
     "data": {
      "text/html": [
       "<div>\n",
       "<style scoped>\n",
       "    .dataframe tbody tr th:only-of-type {\n",
       "        vertical-align: middle;\n",
       "    }\n",
       "\n",
       "    .dataframe tbody tr th {\n",
       "        vertical-align: top;\n",
       "    }\n",
       "\n",
       "    .dataframe thead th {\n",
       "        text-align: right;\n",
       "    }\n",
       "</style>\n",
       "<table border=\"1\" class=\"dataframe\">\n",
       "  <thead>\n",
       "    <tr style=\"text-align: right;\">\n",
       "      <th></th>\n",
       "      <th>Films</th>\n",
       "      <th>popularity</th>\n",
       "    </tr>\n",
       "    <tr>\n",
       "      <th>main_actor</th>\n",
       "      <th></th>\n",
       "      <th></th>\n",
       "    </tr>\n",
       "  </thead>\n",
       "  <tbody>\n",
       "    <tr>\n",
       "      <th>Nicolas Cage</th>\n",
       "      <td>50</td>\n",
       "      <td>0.996495</td>\n",
       "    </tr>\n",
       "    <tr>\n",
       "      <th>Robert De Niro</th>\n",
       "      <td>40</td>\n",
       "      <td>0.954455</td>\n",
       "    </tr>\n",
       "    <tr>\n",
       "      <th>Bruce Willis</th>\n",
       "      <td>39</td>\n",
       "      <td>1.279573</td>\n",
       "    </tr>\n",
       "    <tr>\n",
       "      <th>Clint Eastwood</th>\n",
       "      <td>38</td>\n",
       "      <td>0.643061</td>\n",
       "    </tr>\n",
       "    <tr>\n",
       "      <th>Johnny Depp</th>\n",
       "      <td>36</td>\n",
       "      <td>1.688349</td>\n",
       "    </tr>\n",
       "    <tr>\n",
       "      <th>Sylvester Stallone</th>\n",
       "      <td>36</td>\n",
       "      <td>1.185090</td>\n",
       "    </tr>\n",
       "    <tr>\n",
       "      <th>Steven Seagal</th>\n",
       "      <td>35</td>\n",
       "      <td>0.390328</td>\n",
       "    </tr>\n",
       "    <tr>\n",
       "      <th>Jean-Claude Van Damme</th>\n",
       "      <td>35</td>\n",
       "      <td>0.553295</td>\n",
       "    </tr>\n",
       "    <tr>\n",
       "      <th>Tom Hanks</th>\n",
       "      <td>34</td>\n",
       "      <td>1.706897</td>\n",
       "    </tr>\n",
       "    <tr>\n",
       "      <th>Robin Williams</th>\n",
       "      <td>33</td>\n",
       "      <td>0.877666</td>\n",
       "    </tr>\n",
       "  </tbody>\n",
       "</table>\n",
       "</div>"
      ],
      "text/plain": [
       "                       Films  popularity\n",
       "main_actor                              \n",
       "Nicolas Cage              50    0.996495\n",
       "Robert De Niro            40    0.954455\n",
       "Bruce Willis              39    1.279573\n",
       "Clint Eastwood            38    0.643061\n",
       "Johnny Depp               36    1.688349\n",
       "Sylvester Stallone        36    1.185090\n",
       "Steven Seagal             35    0.390328\n",
       "Jean-Claude Van Damme     35    0.553295\n",
       "Tom Hanks                 34    1.706897\n",
       "Robin Williams            33    0.877666"
      ]
     },
     "execution_count": 177,
     "metadata": {},
     "output_type": "execute_result"
    }
   ],
   "source": [
    "more_movies('main_actor',10,1)"
   ]
  },
  {
   "cell_type": "code",
   "execution_count": 178,
   "metadata": {},
   "outputs": [
    {
     "name": "stdout",
     "output_type": "stream",
     "text": [
      "More popular Actors\n",
      "                     Films  popularity\n",
      "main_actor                            \n",
      "Tom Hardy               10    3.784640\n",
      "Daniel Radcliffe        14    3.626552\n",
      "Jennifer Lawrence        9    3.242708\n",
      "Chris Evans             10    2.833819\n",
      "Leonardo DiCaprio       18    2.689024\n",
      "Matthew McConaughey     15    2.600903\n",
      "Robert Downey Jr.       16    2.596139\n",
      "Christian Bale          18    2.368288\n",
      "Bradley Cooper          10    2.185829\n",
      "Vin Diesel              12    2.183301\n"
     ]
    }
   ],
   "source": [
    "print('More popular Actors')\n",
    "print(more_movies('main_actor').query('Films>5').sort_values(by='popularity',ascending=False).head(10))"
   ]
  },
  {
   "cell_type": "code",
   "execution_count": 179,
   "metadata": {},
   "outputs": [],
   "source": [
    "#Function mean of popularity and plot\n",
    "def mean_plot(variable:str):\n",
    "    lt_10=round(more_movies(variable).query('Films < 10').popularity.mean(),2)\n",
    "    gt_10=round(more_movies(variable).query('Films >= 10').popularity.mean(),2)\n",
    "    print('{}´s popularity with less than 10 films: '.format(string_change(variable)),lt_10)\n",
    "    print('{}´s popularity with greather or equal than 10 films: '.format(string_change(variable)),gt_10)\n",
    "    plot=more_movies(variable).query('Films >= 10').plot(x='Films',y='popularity', kind='scatter', title='{}: Nº of films vs popularity(more than 10 films)'.format(string_change(variable)))\n",
    "    return plot"
   ]
  },
  {
   "cell_type": "code",
   "execution_count": 180,
   "metadata": {},
   "outputs": [
    {
     "name": "stdout",
     "output_type": "stream",
     "text": [
      "Main Actor´s popularity with less than 10 films:  0.43\n",
      "Main Actor´s popularity with greather or equal than 10 films:  0.95\n"
     ]
    },
    {
     "data": {
      "image/png": "[encoded data removed]",
      "text/plain": [
       "<Figure size 432x288 with 1 Axes>"
      ]
     },
     "metadata": {
      "needs_background": "light"
     },
     "output_type": "display_data"
    }
   ],
   "source": [
    "mean_plot('main_actor');"
   ]
  },
  {
   "cell_type": "markdown",
   "metadata": {},
   "source": [
    ">On a sight the actor with more movies don´t have to be more popular, although the mayority of them are above the mean."
   ]
  },
  {
   "cell_type": "code",
   "execution_count": 181,
   "metadata": {},
   "outputs": [
    {
     "data": {
      "text/html": [
       "<div>\n",
       "<style scoped>\n",
       "    .dataframe tbody tr th:only-of-type {\n",
       "        vertical-align: middle;\n",
       "    }\n",
       "\n",
       "    .dataframe tbody tr th {\n",
       "        vertical-align: top;\n",
       "    }\n",
       "\n",
       "    .dataframe thead th {\n",
       "        text-align: right;\n",
       "    }\n",
       "</style>\n",
       "<table border=\"1\" class=\"dataframe\">\n",
       "  <thead>\n",
       "    <tr style=\"text-align: right;\">\n",
       "      <th></th>\n",
       "      <th>Films</th>\n",
       "      <th>popularity</th>\n",
       "    </tr>\n",
       "    <tr>\n",
       "      <th>main_director</th>\n",
       "      <th></th>\n",
       "      <th></th>\n",
       "    </tr>\n",
       "  </thead>\n",
       "  <tbody>\n",
       "    <tr>\n",
       "      <th>Woody Allen</th>\n",
       "      <td>46</td>\n",
       "      <td>0.559087</td>\n",
       "    </tr>\n",
       "    <tr>\n",
       "      <th>Clint Eastwood</th>\n",
       "      <td>34</td>\n",
       "      <td>0.830037</td>\n",
       "    </tr>\n",
       "    <tr>\n",
       "      <th>Steven Spielberg</th>\n",
       "      <td>29</td>\n",
       "      <td>1.875138</td>\n",
       "    </tr>\n",
       "    <tr>\n",
       "      <th>Martin Scorsese</th>\n",
       "      <td>25</td>\n",
       "      <td>1.286499</td>\n",
       "    </tr>\n",
       "    <tr>\n",
       "      <th>Ridley Scott</th>\n",
       "      <td>23</td>\n",
       "      <td>2.009294</td>\n",
       "    </tr>\n",
       "    <tr>\n",
       "      <th>Ron Howard</th>\n",
       "      <td>22</td>\n",
       "      <td>1.295499</td>\n",
       "    </tr>\n",
       "    <tr>\n",
       "      <th>Steven Soderbergh</th>\n",
       "      <td>22</td>\n",
       "      <td>0.945138</td>\n",
       "    </tr>\n",
       "    <tr>\n",
       "      <th>Joel Schumacher</th>\n",
       "      <td>21</td>\n",
       "      <td>0.768102</td>\n",
       "    </tr>\n",
       "    <tr>\n",
       "      <th>Brian De Palma</th>\n",
       "      <td>20</td>\n",
       "      <td>0.861027</td>\n",
       "    </tr>\n",
       "    <tr>\n",
       "      <th>Wes Craven</th>\n",
       "      <td>19</td>\n",
       "      <td>0.594821</td>\n",
       "    </tr>\n",
       "  </tbody>\n",
       "</table>\n",
       "</div>"
      ],
      "text/plain": [
       "                   Films  popularity\n",
       "main_director                       \n",
       "Woody Allen           46    0.559087\n",
       "Clint Eastwood        34    0.830037\n",
       "Steven Spielberg      29    1.875138\n",
       "Martin Scorsese       25    1.286499\n",
       "Ridley Scott          23    2.009294\n",
       "Ron Howard            22    1.295499\n",
       "Steven Soderbergh     22    0.945138\n",
       "Joel Schumacher       21    0.768102\n",
       "Brian De Palma        20    0.861027\n",
       "Wes Craven            19    0.594821"
      ]
     },
     "execution_count": 181,
     "metadata": {},
     "output_type": "execute_result"
    }
   ],
   "source": [
    "more_movies('main_director',10)"
   ]
  },
  {
   "cell_type": "code",
   "execution_count": 182,
   "metadata": {},
   "outputs": [
    {
     "name": "stdout",
     "output_type": "stream",
     "text": [
      "More popular directors\n",
      "                   Films  popularity\n",
      "main_director                       \n",
      "Christopher Nolan      9    6.865185\n",
      "Quentin Tarantino      9    5.093924\n",
      "Francis Lawrence       6    4.437604\n",
      "George Miller          9    4.149563\n",
      "George Lucas           6    3.910306\n",
      "Peter Jackson         12    3.495454\n",
      "David Fincher         10    3.447978\n",
      "James Cameron          9    3.202686\n",
      "Jon Favreau            7    2.729296\n",
      "Sam Mendes             7    2.673456\n"
     ]
    }
   ],
   "source": [
    "print('More popular directors')\n",
    "print(more_movies('main_director').query('Films>5').sort_values(by='popularity',ascending=False).head(10))"
   ]
  },
  {
   "cell_type": "code",
   "execution_count": 183,
   "metadata": {},
   "outputs": [
    {
     "name": "stdout",
     "output_type": "stream",
     "text": [
      "Main Director´s popularity with less than 10 films:  0.51\n",
      "Main Director´s popularity with greather or equal than 10 films:  0.85\n"
     ]
    },
    {
     "data": {
      "image/png": "[encoded data removed]",
      "text/plain": [
       "<Figure size 432x288 with 1 Axes>"
      ]
     },
     "metadata": {
      "needs_background": "light"
     },
     "output_type": "display_data"
    }
   ],
   "source": [
    "mean_plot('main_director');"
   ]
  },
  {
   "cell_type": "markdown",
   "metadata": {},
   "source": [
    ">In the case of directors are similar to the the case of actors, besides women don't appears in these lists(only Jennifer Lawrence in actor´s list). Which means that women haven´t have a main role in the movies so far."
   ]
  },
  {
   "cell_type": "markdown",
   "metadata": {},
   "source": [
    "> Now we will add the movie´s genre to the analisys of these variables."
   ]
  },
  {
   "cell_type": "code",
   "execution_count": 184,
   "metadata": {},
   "outputs": [
    {
     "name": "stdout",
     "output_type": "stream",
     "text": [
      "Directors & Genres with more films\n",
      "       main_director main_genre  Films  popularity\n",
      "0        Woody Allen     Comedy     28    0.540958\n",
      "1    Martin Scorsese      Drama     16    1.276344\n",
      "2      Gerald Thomas     Comedy     12    0.158687\n",
      "3  Steven Soderbergh      Drama     12    0.779350\n",
      "4     Stephen Frears      Drama     12    0.347140\n",
      "5         Rob Reiner     Comedy     12    0.771106\n",
      "6      Blake Edwards     Comedy     12    0.598763\n",
      "7         Wes Craven     Horror     12    0.620847\n",
      "8     Clint Eastwood      Drama     11    0.848778\n",
      "9         Mel Brooks     Comedy     11    0.775615\n"
     ]
    }
   ],
   "source": [
    "director_genre=df_movie.groupby(['main_director','main_genre']).agg({'main_director':'size', 'popularity':'mean'}).rename(columns={'main_director':'Films'}).sort_values(by='Films',ascending=False).reset_index()\n",
    "print('Directors & Genres with more films')\n",
    "print(director_genre.head(10))\n"
   ]
  },
  {
   "cell_type": "code",
   "execution_count": 185,
   "metadata": {},
   "outputs": [
    {
     "name": "stdout",
     "output_type": "stream",
     "text": [
      "         main_director main_genre  Films  popularity\n",
      "553  Christopher Nolan     Action      3    7.118582\n",
      "526       George Lucas  Adventure      3    6.230759\n",
      "96       Peter Jackson  Adventure      6    6.147223\n",
      "569     Gore Verbinski  Adventure      3    5.345150\n",
      "478     Chris Columbus  Adventure      3    5.304008\n",
      "267        David Yates  Adventure      4    5.126634\n",
      "218      James Cameron     Action      4    4.923096\n",
      "419      David Fincher      Drama      3    4.294623\n",
      "440          Brad Bird     Action      3    3.918095\n",
      "217  Quentin Tarantino     Action      4    3.806049\n"
     ]
    },
    {
     "data": {
      "image/png": "[encoded data removed]",
      "text/plain": [
       "<Figure size 471.125x360 with 1 Axes>"
      ]
     },
     "metadata": {
      "needs_background": "light"
     },
     "output_type": "display_data"
    }
   ],
   "source": [
    "director_genre=director_genre.query('Films >= 3');\n",
    "\n",
    "print(director_genre.query('popularity > 2').sort_values(by=['popularity'],ascending=False).head(10))\n",
    "\n",
    "f=sns.lmplot( x=\"Films\", y=\"popularity\", data=director_genre, fit_reg=False, hue='main_genre', legend=True);\n",
    "f.ax.set_title('Popularity VS Nº of films by genre');"
   ]
  },
  {
   "cell_type": "markdown",
   "metadata": {},
   "source": [
    "> The most popular director are:\n",
    "- Christopher Nolan    \n",
    "- Quentin Tarantino   \n",
    "- Francis Lawrence \n",
    "\n",
    "> Although there are other directors who are popular by their sagas like:\n",
    "- Peter Jackson\n",
    "- George Lucas"
   ]
  },
  {
   "cell_type": "code",
   "execution_count": 186,
   "metadata": {},
   "outputs": [
    {
     "name": "stdout",
     "output_type": "stream",
     "text": [
      "Actors & Genres with more films\n",
      "              main_actor main_genre  Films  popularity\n",
      "0          Steven Seagal     Action     31    0.412822\n",
      "1     Sylvester Stallone     Action     26    1.203434\n",
      "2  Jean-Claude Van Damme     Action     25    0.558532\n",
      "3            Woody Allen     Comedy     23    0.478074\n",
      "4           Adam Sandler     Comedy     22    1.092821\n",
      "5         Robin Williams     Comedy     21    0.687933\n",
      "6           Steve Martin     Comedy     20    0.528693\n",
      "7           Bruce Willis     Action     20    1.416418\n",
      "8         Clint Eastwood     Action     17    0.614869\n",
      "9  Arnold Schwarzenegger     Action     16    1.788285\n"
     ]
    }
   ],
   "source": [
    "actor_genres=df_movie.groupby(['main_actor','main_genre']).agg({'main_actor':'size', 'popularity':'mean'}).rename(columns={'main_actor':'Films'}).sort_values(by='Films',ascending=False).reset_index()\n",
    "print('Actors & Genres with more films')\n",
    "print(actor_genres.head(10))"
   ]
  },
  {
   "cell_type": "code",
   "execution_count": 187,
   "metadata": {},
   "outputs": [
    {
     "name": "stdout",
     "output_type": "stream",
     "text": [
      "Most popular actors by genre\n",
      "   index        main_actor main_genre  Films  popularity\n",
      "0     70  Daniel Radcliffe  Adventure      8    5.788532\n",
      "1    163       Johnny Depp  Adventure      6    4.264983\n",
      "2     66      Keanu Reeves     Action      8    3.281113\n",
      "3     83        Tom Cruise     Action      7    2.994068\n",
      "4    231    Christian Bale      Drama      5    2.987059\n",
      "5    144     Harrison Ford     Action      6    2.559797\n",
      "6    240        Will Smith     Action      5    2.478129\n",
      "7     98        Vin Diesel     Action      7    2.436027\n",
      "8    247    Michael J. Fox  Adventure      5    2.433776\n",
      "9     87     Harrison Ford  Adventure      7    2.378329\n"
     ]
    },
    {
     "data": {
      "image/png": "[encoded data removed]",
      "text/plain": [
       "<Figure size 471.125x360 with 1 Axes>"
      ]
     },
     "metadata": {
      "needs_background": "light"
     },
     "output_type": "display_data"
    }
   ],
   "source": [
    "actor_genres=actor_genres.query('Films >= 5');\n",
    "print('Most popular actors by genre')\n",
    "print(actor_genres.query('popularity > 2').sort_values(by='popularity',ascending=False).head(10).reset_index())\n",
    "\n",
    "g=sns.lmplot( x=\"Films\", y=\"popularity\", data=actor_genres, fit_reg=False, hue='main_genre', legend=True)\n",
    "g.ax.set_title('Popularity VS Nº of films by genre');\n"
   ]
  },
  {
   "cell_type": "markdown",
   "metadata": {},
   "source": [
    "> We are going to examine the film in which participate the top 3 actors as the main actor."
   ]
  },
  {
   "cell_type": "code",
   "execution_count": 188,
   "metadata": {},
   "outputs": [],
   "source": [
    "#Function to print actor´s movies\n",
    "def actor_movies(name: str):\n",
    "    print(name + ' movies')\n",
    "    movies = df_movie.query('main_actor == \"{}\"'.format(name)).sort_values(by='popularity', ascending =False)\n",
    "    return movies  "
   ]
  },
  {
   "cell_type": "code",
   "execution_count": 189,
   "metadata": {},
   "outputs": [
    {
     "name": "stdout",
     "output_type": "stream",
     "text": [
      "Tom Hardy movies\n"
     ]
    },
    {
     "data": {
      "text/html": [
       "<div>\n",
       "<style scoped>\n",
       "    .dataframe tbody tr th:only-of-type {\n",
       "        vertical-align: middle;\n",
       "    }\n",
       "\n",
       "    .dataframe tbody tr th {\n",
       "        vertical-align: top;\n",
       "    }\n",
       "\n",
       "    .dataframe thead th {\n",
       "        text-align: right;\n",
       "    }\n",
       "</style>\n",
       "<table border=\"1\" class=\"dataframe\">\n",
       "  <thead>\n",
       "    <tr style=\"text-align: right;\">\n",
       "      <th></th>\n",
       "      <th>popularity</th>\n",
       "      <th>original_title</th>\n",
       "      <th>main_actor</th>\n",
       "      <th>main_director</th>\n",
       "      <th>runtime</th>\n",
       "      <th>main_genre</th>\n",
       "      <th>vote_count</th>\n",
       "      <th>vote_average</th>\n",
       "      <th>release_year</th>\n",
       "    </tr>\n",
       "  </thead>\n",
       "  <tbody>\n",
       "    <tr>\n",
       "      <th>1</th>\n",
       "      <td>28.419936</td>\n",
       "      <td>Mad Max: Fury Road</td>\n",
       "      <td>Tom Hardy</td>\n",
       "      <td>George Miller</td>\n",
       "      <td>120</td>\n",
       "      <td>Action</td>\n",
       "      <td>6185</td>\n",
       "      <td>7.1</td>\n",
       "      <td>2015</td>\n",
       "    </tr>\n",
       "    <tr>\n",
       "      <th>71</th>\n",
       "      <td>2.281350</td>\n",
       "      <td>Legend</td>\n",
       "      <td>Tom Hardy</td>\n",
       "      <td>Brian Helgeland</td>\n",
       "      <td>131</td>\n",
       "      <td>Crime</td>\n",
       "      <td>619</td>\n",
       "      <td>6.7</td>\n",
       "      <td>2015</td>\n",
       "    </tr>\n",
       "    <tr>\n",
       "      <th>704</th>\n",
       "      <td>1.957672</td>\n",
       "      <td>The Drop</td>\n",
       "      <td>Tom Hardy</td>\n",
       "      <td>MichaÃ«l R. Roskam</td>\n",
       "      <td>106</td>\n",
       "      <td>Drama</td>\n",
       "      <td>583</td>\n",
       "      <td>6.6</td>\n",
       "      <td>2014</td>\n",
       "    </tr>\n",
       "    <tr>\n",
       "      <th>89</th>\n",
       "      <td>1.956320</td>\n",
       "      <td>Child 44</td>\n",
       "      <td>Tom Hardy</td>\n",
       "      <td>Daniel Espinosa</td>\n",
       "      <td>137</td>\n",
       "      <td>Crime</td>\n",
       "      <td>341</td>\n",
       "      <td>5.9</td>\n",
       "      <td>2015</td>\n",
       "    </tr>\n",
       "    <tr>\n",
       "      <th>3433</th>\n",
       "      <td>1.246852</td>\n",
       "      <td>Warrior</td>\n",
       "      <td>Tom Hardy</td>\n",
       "      <td>Gavin O'Connor</td>\n",
       "      <td>140</td>\n",
       "      <td>Action</td>\n",
       "      <td>768</td>\n",
       "      <td>7.6</td>\n",
       "      <td>2011</td>\n",
       "    </tr>\n",
       "    <tr>\n",
       "      <th>3013</th>\n",
       "      <td>0.632341</td>\n",
       "      <td>Bronson</td>\n",
       "      <td>Tom Hardy</td>\n",
       "      <td>Nicolas Winding Refn</td>\n",
       "      <td>92</td>\n",
       "      <td>Drama</td>\n",
       "      <td>375</td>\n",
       "      <td>6.9</td>\n",
       "      <td>2008</td>\n",
       "    </tr>\n",
       "    <tr>\n",
       "      <th>854</th>\n",
       "      <td>0.602735</td>\n",
       "      <td>Locke</td>\n",
       "      <td>Tom Hardy</td>\n",
       "      <td>Steven Knight</td>\n",
       "      <td>85</td>\n",
       "      <td>Drama</td>\n",
       "      <td>480</td>\n",
       "      <td>6.8</td>\n",
       "      <td>2014</td>\n",
       "    </tr>\n",
       "    <tr>\n",
       "      <th>7563</th>\n",
       "      <td>0.474364</td>\n",
       "      <td>Stuart: A Life Backwards</td>\n",
       "      <td>Tom Hardy</td>\n",
       "      <td>David Attwood</td>\n",
       "      <td>92</td>\n",
       "      <td>Drama</td>\n",
       "      <td>17</td>\n",
       "      <td>7.1</td>\n",
       "      <td>2007</td>\n",
       "    </tr>\n",
       "    <tr>\n",
       "      <th>6820</th>\n",
       "      <td>0.171168</td>\n",
       "      <td>Minotaur</td>\n",
       "      <td>Tom Hardy</td>\n",
       "      <td>Jonathan English</td>\n",
       "      <td>93</td>\n",
       "      <td>Horror</td>\n",
       "      <td>15</td>\n",
       "      <td>3.4</td>\n",
       "      <td>2006</td>\n",
       "    </tr>\n",
       "    <tr>\n",
       "      <th>1738</th>\n",
       "      <td>0.103661</td>\n",
       "      <td>Wuthering Heights</td>\n",
       "      <td>Tom Hardy</td>\n",
       "      <td>Coky Giedroyc</td>\n",
       "      <td>142</td>\n",
       "      <td>Drama</td>\n",
       "      <td>21</td>\n",
       "      <td>7.4</td>\n",
       "      <td>2009</td>\n",
       "    </tr>\n",
       "  </tbody>\n",
       "</table>\n",
       "</div>"
      ],
      "text/plain": [
       "      popularity            original_title main_actor         main_director  \\\n",
       "1      28.419936        Mad Max: Fury Road  Tom Hardy         George Miller   \n",
       "71      2.281350                    Legend  Tom Hardy       Brian Helgeland   \n",
       "704     1.957672                  The Drop  Tom Hardy    MichaÃ«l R. Roskam   \n",
       "89      1.956320                  Child 44  Tom Hardy       Daniel Espinosa   \n",
       "3433    1.246852                   Warrior  Tom Hardy        Gavin O'Connor   \n",
       "3013    0.632341                   Bronson  Tom Hardy  Nicolas Winding Refn   \n",
       "854     0.602735                     Locke  Tom Hardy         Steven Knight   \n",
       "7563    0.474364  Stuart: A Life Backwards  Tom Hardy         David Attwood   \n",
       "6820    0.171168                  Minotaur  Tom Hardy      Jonathan English   \n",
       "1738    0.103661         Wuthering Heights  Tom Hardy         Coky Giedroyc   \n",
       "\n",
       "      runtime main_genre  vote_count  vote_average  release_year  \n",
       "1         120     Action        6185           7.1          2015  \n",
       "71        131      Crime         619           6.7          2015  \n",
       "704       106      Drama         583           6.6          2014  \n",
       "89        137      Crime         341           5.9          2015  \n",
       "3433      140     Action         768           7.6          2011  \n",
       "3013       92      Drama         375           6.9          2008  \n",
       "854        85      Drama         480           6.8          2014  \n",
       "7563       92      Drama          17           7.1          2007  \n",
       "6820       93     Horror          15           3.4          2006  \n",
       "1738      142      Drama          21           7.4          2009  "
      ]
     },
     "execution_count": 189,
     "metadata": {},
     "output_type": "execute_result"
    }
   ],
   "source": [
    "actor_movies(\"Tom Hardy\")"
   ]
  },
  {
   "cell_type": "code",
   "execution_count": 190,
   "metadata": {},
   "outputs": [
    {
     "name": "stdout",
     "output_type": "stream",
     "text": [
      "Daniel Radcliffe movies\n"
     ]
    },
    {
     "data": {
      "text/html": [
       "<div>\n",
       "<style scoped>\n",
       "    .dataframe tbody tr th:only-of-type {\n",
       "        vertical-align: middle;\n",
       "    }\n",
       "\n",
       "    .dataframe tbody tr th {\n",
       "        vertical-align: top;\n",
       "    }\n",
       "\n",
       "    .dataframe thead th {\n",
       "        text-align: right;\n",
       "    }\n",
       "</style>\n",
       "<table border=\"1\" class=\"dataframe\">\n",
       "  <thead>\n",
       "    <tr style=\"text-align: right;\">\n",
       "      <th></th>\n",
       "      <th>popularity</th>\n",
       "      <th>original_title</th>\n",
       "      <th>main_actor</th>\n",
       "      <th>main_director</th>\n",
       "      <th>runtime</th>\n",
       "      <th>main_genre</th>\n",
       "      <th>vote_count</th>\n",
       "      <th>vote_average</th>\n",
       "      <th>release_year</th>\n",
       "    </tr>\n",
       "  </thead>\n",
       "  <tbody>\n",
       "    <tr>\n",
       "      <th>2634</th>\n",
       "      <td>8.021423</td>\n",
       "      <td>Harry Potter and the Philosopher's Stone</td>\n",
       "      <td>Daniel Radcliffe</td>\n",
       "      <td>Chris Columbus</td>\n",
       "      <td>152</td>\n",
       "      <td>Adventure</td>\n",
       "      <td>4265</td>\n",
       "      <td>7.2</td>\n",
       "      <td>2001</td>\n",
       "    </tr>\n",
       "    <tr>\n",
       "      <th>3912</th>\n",
       "      <td>6.012584</td>\n",
       "      <td>Harry Potter and the Chamber of Secrets</td>\n",
       "      <td>Daniel Radcliffe</td>\n",
       "      <td>Chris Columbus</td>\n",
       "      <td>161</td>\n",
       "      <td>Adventure</td>\n",
       "      <td>3458</td>\n",
       "      <td>7.2</td>\n",
       "      <td>2002</td>\n",
       "    </tr>\n",
       "    <tr>\n",
       "      <th>6190</th>\n",
       "      <td>5.939927</td>\n",
       "      <td>Harry Potter and the Goblet of Fire</td>\n",
       "      <td>Daniel Radcliffe</td>\n",
       "      <td>Mike Newell</td>\n",
       "      <td>157</td>\n",
       "      <td>Adventure</td>\n",
       "      <td>3406</td>\n",
       "      <td>7.3</td>\n",
       "      <td>2005</td>\n",
       "    </tr>\n",
       "    <tr>\n",
       "      <th>6962</th>\n",
       "      <td>5.827781</td>\n",
       "      <td>Harry Potter and the Prisoner of Azkaban</td>\n",
       "      <td>Daniel Radcliffe</td>\n",
       "      <td>Alfonso CuarÃ³n</td>\n",
       "      <td>141</td>\n",
       "      <td>Adventure</td>\n",
       "      <td>3550</td>\n",
       "      <td>7.4</td>\n",
       "      <td>2004</td>\n",
       "    </tr>\n",
       "    <tr>\n",
       "      <th>3374</th>\n",
       "      <td>5.711315</td>\n",
       "      <td>Harry Potter and the Deathly Hallows: Part 2</td>\n",
       "      <td>Daniel Radcliffe</td>\n",
       "      <td>David Yates</td>\n",
       "      <td>130</td>\n",
       "      <td>Adventure</td>\n",
       "      <td>3750</td>\n",
       "      <td>7.7</td>\n",
       "      <td>2011</td>\n",
       "    </tr>\n",
       "    <tr>\n",
       "      <th>1389</th>\n",
       "      <td>5.076472</td>\n",
       "      <td>Harry Potter and the Half-Blood Prince</td>\n",
       "      <td>Daniel Radcliffe</td>\n",
       "      <td>David Yates</td>\n",
       "      <td>153</td>\n",
       "      <td>Adventure</td>\n",
       "      <td>3220</td>\n",
       "      <td>7.3</td>\n",
       "      <td>2009</td>\n",
       "    </tr>\n",
       "    <tr>\n",
       "      <th>7388</th>\n",
       "      <td>4.878162</td>\n",
       "      <td>Harry Potter and the Order of the Phoenix</td>\n",
       "      <td>Daniel Radcliffe</td>\n",
       "      <td>David Yates</td>\n",
       "      <td>138</td>\n",
       "      <td>Adventure</td>\n",
       "      <td>3382</td>\n",
       "      <td>7.2</td>\n",
       "      <td>2007</td>\n",
       "    </tr>\n",
       "    <tr>\n",
       "      <th>1923</th>\n",
       "      <td>4.840588</td>\n",
       "      <td>Harry Potter and the Deathly Hallows: Part 1</td>\n",
       "      <td>Daniel Radcliffe</td>\n",
       "      <td>David Yates</td>\n",
       "      <td>146</td>\n",
       "      <td>Adventure</td>\n",
       "      <td>3467</td>\n",
       "      <td>7.4</td>\n",
       "      <td>2010</td>\n",
       "    </tr>\n",
       "    <tr>\n",
       "      <th>5497</th>\n",
       "      <td>1.316881</td>\n",
       "      <td>What If</td>\n",
       "      <td>Daniel Radcliffe</td>\n",
       "      <td>Michael Dowse</td>\n",
       "      <td>93</td>\n",
       "      <td>Drama</td>\n",
       "      <td>482</td>\n",
       "      <td>6.7</td>\n",
       "      <td>2013</td>\n",
       "    </tr>\n",
       "    <tr>\n",
       "      <th>5513</th>\n",
       "      <td>1.138355</td>\n",
       "      <td>Kill Your Darlings</td>\n",
       "      <td>Daniel Radcliffe</td>\n",
       "      <td>John Krokidas</td>\n",
       "      <td>104</td>\n",
       "      <td>Drama</td>\n",
       "      <td>270</td>\n",
       "      <td>6.7</td>\n",
       "      <td>2013</td>\n",
       "    </tr>\n",
       "    <tr>\n",
       "      <th>4450</th>\n",
       "      <td>1.049943</td>\n",
       "      <td>The Woman in Black</td>\n",
       "      <td>Daniel Radcliffe</td>\n",
       "      <td>James Watkins</td>\n",
       "      <td>95</td>\n",
       "      <td>Drama</td>\n",
       "      <td>695</td>\n",
       "      <td>6.1</td>\n",
       "      <td>2012</td>\n",
       "    </tr>\n",
       "    <tr>\n",
       "      <th>5592</th>\n",
       "      <td>0.724580</td>\n",
       "      <td>Horns</td>\n",
       "      <td>Daniel Radcliffe</td>\n",
       "      <td>Alexandre Aja</td>\n",
       "      <td>120</td>\n",
       "      <td>Thriller</td>\n",
       "      <td>568</td>\n",
       "      <td>6.2</td>\n",
       "      <td>2013</td>\n",
       "    </tr>\n",
       "    <tr>\n",
       "      <th>7714</th>\n",
       "      <td>0.208459</td>\n",
       "      <td>December Boys</td>\n",
       "      <td>Daniel Radcliffe</td>\n",
       "      <td>Rod Hardy</td>\n",
       "      <td>105</td>\n",
       "      <td>Drama</td>\n",
       "      <td>42</td>\n",
       "      <td>5.8</td>\n",
       "      <td>2007</td>\n",
       "    </tr>\n",
       "    <tr>\n",
       "      <th>618</th>\n",
       "      <td>0.025252</td>\n",
       "      <td>The Gamechangers</td>\n",
       "      <td>Daniel Radcliffe</td>\n",
       "      <td>Owen Harris</td>\n",
       "      <td>90</td>\n",
       "      <td>Drama</td>\n",
       "      <td>11</td>\n",
       "      <td>7.0</td>\n",
       "      <td>2015</td>\n",
       "    </tr>\n",
       "  </tbody>\n",
       "</table>\n",
       "</div>"
      ],
      "text/plain": [
       "      popularity                                original_title  \\\n",
       "2634    8.021423      Harry Potter and the Philosopher's Stone   \n",
       "3912    6.012584       Harry Potter and the Chamber of Secrets   \n",
       "6190    5.939927           Harry Potter and the Goblet of Fire   \n",
       "6962    5.827781      Harry Potter and the Prisoner of Azkaban   \n",
       "3374    5.711315  Harry Potter and the Deathly Hallows: Part 2   \n",
       "1389    5.076472        Harry Potter and the Half-Blood Prince   \n",
       "7388    4.878162     Harry Potter and the Order of the Phoenix   \n",
       "1923    4.840588  Harry Potter and the Deathly Hallows: Part 1   \n",
       "5497    1.316881                                       What If   \n",
       "5513    1.138355                            Kill Your Darlings   \n",
       "4450    1.049943                            The Woman in Black   \n",
       "5592    0.724580                                         Horns   \n",
       "7714    0.208459                                 December Boys   \n",
       "618     0.025252                              The Gamechangers   \n",
       "\n",
       "            main_actor    main_director  runtime main_genre  vote_count  \\\n",
       "2634  Daniel Radcliffe   Chris Columbus      152  Adventure        4265   \n",
       "3912  Daniel Radcliffe   Chris Columbus      161  Adventure        3458   \n",
       "6190  Daniel Radcliffe      Mike Newell      157  Adventure        3406   \n",
       "6962  Daniel Radcliffe  Alfonso CuarÃ³n      141  Adventure        3550   \n",
       "3374  Daniel Radcliffe      David Yates      130  Adventure        3750   \n",
       "1389  Daniel Radcliffe      David Yates      153  Adventure        3220   \n",
       "7388  Daniel Radcliffe      David Yates      138  Adventure        3382   \n",
       "1923  Daniel Radcliffe      David Yates      146  Adventure        3467   \n",
       "5497  Daniel Radcliffe    Michael Dowse       93      Drama         482   \n",
       "5513  Daniel Radcliffe    John Krokidas      104      Drama         270   \n",
       "4450  Daniel Radcliffe    James Watkins       95      Drama         695   \n",
       "5592  Daniel Radcliffe    Alexandre Aja      120   Thriller         568   \n",
       "7714  Daniel Radcliffe        Rod Hardy      105      Drama          42   \n",
       "618   Daniel Radcliffe      Owen Harris       90      Drama          11   \n",
       "\n",
       "      vote_average  release_year  \n",
       "2634           7.2          2001  \n",
       "3912           7.2          2002  \n",
       "6190           7.3          2005  \n",
       "6962           7.4          2004  \n",
       "3374           7.7          2011  \n",
       "1389           7.3          2009  \n",
       "7388           7.2          2007  \n",
       "1923           7.4          2010  \n",
       "5497           6.7          2013  \n",
       "5513           6.7          2013  \n",
       "4450           6.1          2012  \n",
       "5592           6.2          2013  \n",
       "7714           5.8          2007  \n",
       "618            7.0          2015  "
      ]
     },
     "execution_count": 190,
     "metadata": {},
     "output_type": "execute_result"
    }
   ],
   "source": [
    "actor_movies(\"Daniel Radcliffe\")"
   ]
  },
  {
   "cell_type": "code",
   "execution_count": 191,
   "metadata": {},
   "outputs": [
    {
     "name": "stdout",
     "output_type": "stream",
     "text": [
      "Jennifer Lawrence movies\n"
     ]
    },
    {
     "data": {
      "text/html": [
       "<div>\n",
       "<style scoped>\n",
       "    .dataframe tbody tr th:only-of-type {\n",
       "        vertical-align: middle;\n",
       "    }\n",
       "\n",
       "    .dataframe tbody tr th {\n",
       "        vertical-align: top;\n",
       "    }\n",
       "\n",
       "    .dataframe thead th {\n",
       "        text-align: right;\n",
       "    }\n",
       "</style>\n",
       "<table border=\"1\" class=\"dataframe\">\n",
       "  <thead>\n",
       "    <tr style=\"text-align: right;\">\n",
       "      <th></th>\n",
       "      <th>popularity</th>\n",
       "      <th>original_title</th>\n",
       "      <th>main_actor</th>\n",
       "      <th>main_director</th>\n",
       "      <th>runtime</th>\n",
       "      <th>main_genre</th>\n",
       "      <th>vote_count</th>\n",
       "      <th>vote_average</th>\n",
       "      <th>release_year</th>\n",
       "    </tr>\n",
       "  </thead>\n",
       "  <tbody>\n",
       "    <tr>\n",
       "      <th>633</th>\n",
       "      <td>10.739009</td>\n",
       "      <td>The Hunger Games: Mockingjay - Part 1</td>\n",
       "      <td>Jennifer Lawrence</td>\n",
       "      <td>Francis Lawrence</td>\n",
       "      <td>123</td>\n",
       "      <td>Science Fiction</td>\n",
       "      <td>3590</td>\n",
       "      <td>6.6</td>\n",
       "      <td>2014</td>\n",
       "    </tr>\n",
       "    <tr>\n",
       "      <th>19</th>\n",
       "      <td>5.476958</td>\n",
       "      <td>The Hunger Games: Mockingjay - Part 2</td>\n",
       "      <td>Jennifer Lawrence</td>\n",
       "      <td>Francis Lawrence</td>\n",
       "      <td>136</td>\n",
       "      <td>War</td>\n",
       "      <td>2380</td>\n",
       "      <td>6.5</td>\n",
       "      <td>2015</td>\n",
       "    </tr>\n",
       "    <tr>\n",
       "      <th>5427</th>\n",
       "      <td>4.921275</td>\n",
       "      <td>The Hunger Games: Catching Fire</td>\n",
       "      <td>Jennifer Lawrence</td>\n",
       "      <td>Francis Lawrence</td>\n",
       "      <td>146</td>\n",
       "      <td>Science Fiction</td>\n",
       "      <td>4269</td>\n",
       "      <td>7.4</td>\n",
       "      <td>2013</td>\n",
       "    </tr>\n",
       "    <tr>\n",
       "      <th>53</th>\n",
       "      <td>2.793297</td>\n",
       "      <td>Joy</td>\n",
       "      <td>Jennifer Lawrence</td>\n",
       "      <td>David O. Russell</td>\n",
       "      <td>124</td>\n",
       "      <td>Comedy</td>\n",
       "      <td>1001</td>\n",
       "      <td>6.4</td>\n",
       "      <td>2015</td>\n",
       "    </tr>\n",
       "    <tr>\n",
       "      <th>4382</th>\n",
       "      <td>2.571099</td>\n",
       "      <td>The Hunger Games</td>\n",
       "      <td>Jennifer Lawrence</td>\n",
       "      <td>Gary Ross</td>\n",
       "      <td>142</td>\n",
       "      <td>Science Fiction</td>\n",
       "      <td>7080</td>\n",
       "      <td>6.7</td>\n",
       "      <td>2012</td>\n",
       "    </tr>\n",
       "    <tr>\n",
       "      <th>773</th>\n",
       "      <td>0.965064</td>\n",
       "      <td>Serena</td>\n",
       "      <td>Jennifer Lawrence</td>\n",
       "      <td>Susanne Bier</td>\n",
       "      <td>102</td>\n",
       "      <td>Drama</td>\n",
       "      <td>190</td>\n",
       "      <td>5.4</td>\n",
       "      <td>2014</td>\n",
       "    </tr>\n",
       "    <tr>\n",
       "      <th>4497</th>\n",
       "      <td>0.699480</td>\n",
       "      <td>House at the End of the Street</td>\n",
       "      <td>Jennifer Lawrence</td>\n",
       "      <td>Mark Tonderai</td>\n",
       "      <td>101</td>\n",
       "      <td>Horror</td>\n",
       "      <td>350</td>\n",
       "      <td>5.6</td>\n",
       "      <td>2012</td>\n",
       "    </tr>\n",
       "    <tr>\n",
       "      <th>2062</th>\n",
       "      <td>0.659749</td>\n",
       "      <td>Winter's Bone</td>\n",
       "      <td>Jennifer Lawrence</td>\n",
       "      <td>Debra Granik</td>\n",
       "      <td>100</td>\n",
       "      <td>Drama</td>\n",
       "      <td>289</td>\n",
       "      <td>6.7</td>\n",
       "      <td>2010</td>\n",
       "    </tr>\n",
       "    <tr>\n",
       "      <th>3124</th>\n",
       "      <td>0.358438</td>\n",
       "      <td>The Poker House</td>\n",
       "      <td>Jennifer Lawrence</td>\n",
       "      <td>Lori Petty</td>\n",
       "      <td>93</td>\n",
       "      <td>Drama</td>\n",
       "      <td>27</td>\n",
       "      <td>6.2</td>\n",
       "      <td>2008</td>\n",
       "    </tr>\n",
       "  </tbody>\n",
       "</table>\n",
       "</div>"
      ],
      "text/plain": [
       "      popularity                         original_title         main_actor  \\\n",
       "633    10.739009  The Hunger Games: Mockingjay - Part 1  Jennifer Lawrence   \n",
       "19      5.476958  The Hunger Games: Mockingjay - Part 2  Jennifer Lawrence   \n",
       "5427    4.921275        The Hunger Games: Catching Fire  Jennifer Lawrence   \n",
       "53      2.793297                                    Joy  Jennifer Lawrence   \n",
       "4382    2.571099                       The Hunger Games  Jennifer Lawrence   \n",
       "773     0.965064                                 Serena  Jennifer Lawrence   \n",
       "4497    0.699480         House at the End of the Street  Jennifer Lawrence   \n",
       "2062    0.659749                          Winter's Bone  Jennifer Lawrence   \n",
       "3124    0.358438                        The Poker House  Jennifer Lawrence   \n",
       "\n",
       "         main_director  runtime       main_genre  vote_count  vote_average  \\\n",
       "633   Francis Lawrence      123  Science Fiction        3590           6.6   \n",
       "19    Francis Lawrence      136              War        2380           6.5   \n",
       "5427  Francis Lawrence      146  Science Fiction        4269           7.4   \n",
       "53    David O. Russell      124           Comedy        1001           6.4   \n",
       "4382         Gary Ross      142  Science Fiction        7080           6.7   \n",
       "773       Susanne Bier      102            Drama         190           5.4   \n",
       "4497     Mark Tonderai      101           Horror         350           5.6   \n",
       "2062      Debra Granik      100            Drama         289           6.7   \n",
       "3124        Lori Petty       93            Drama          27           6.2   \n",
       "\n",
       "      release_year  \n",
       "633           2014  \n",
       "19            2015  \n",
       "5427          2013  \n",
       "53            2015  \n",
       "4382          2012  \n",
       "773           2014  \n",
       "4497          2012  \n",
       "2062          2010  \n",
       "3124          2008  "
      ]
     },
     "execution_count": 191,
     "metadata": {},
     "output_type": "execute_result"
    }
   ],
   "source": [
    "actor_movies(\"Jennifer Lawrence\")"
   ]
  },
  {
   "cell_type": "markdown",
   "metadata": {},
   "source": [
    "> The most popular Actors are:\n",
    "- Tom Hardy             \n",
    "- Daniel Radcliffe       \n",
    "- Jennifer Lawrence\n",
    "\n",
    "> But it also depends on the sagas. For instance Daniel Radcliffe is popular by the saga of Harry Potter, without this his popularity decreases a lot or Jennifer Lawrence with the the saga of The Hunter Games."
   ]
  },
  {
   "cell_type": "markdown",
   "metadata": {},
   "source": [
    "<a id='conclusions'></a>\n",
    "## Conclusions\n",
    "\n",
    "> The most popular films seem to be related to Adventure and Science Fiction in contrast with films that reached a higher vote that are Documentary and Music genres.\n",
    "\n",
    "> Besides, we can see that the role of women is less than men in the film industry. \n",
    "\n",
    ">When we analize the most popular actors and directors, they tend to make adventure and accion films and most of them are sagas. For these reason actors and directors who participate in a popular saga have more posibilities to became more popular than others.\n",
    "\n",
    "> To conclude, it is important to comment that two very import variables such as budget and revenue have more than 50% of missing values and if this variables were well informed they will occupy an important place in our analysis. Another important point is size of the sample which is sufficent to be representative for the entire film industry.\n",
    "\n",
    "> In case of other variables that we miss in this dataset are the language of the film and the nationality of the film or the director, with these variables we could analyze the production of films in each country and the weight of the original language in the movies.\n"
   ]
  },
  {
   "cell_type": "markdown",
   "metadata": {},
   "source": [
    "Material referred to: N/A"
   ]
  }
 ],
 "metadata": {
  "kernelspec": {
   "display_name": "Python 3",
   "language": "python",
   "name": "python3"
  },
  "language_info": {
   "codemirror_mode": {
    "name": "ipython",
    "version": 3
   },
   "file_extension": ".py",
   "mimetype": "text/x-python",
   "name": "python",
   "nbconvert_exporter": "python",
   "pygments_lexer": "ipython3",
   "version": "3.7.1"
  }
 },
 "nbformat": 4,
 "nbformat_minor": 2
}
